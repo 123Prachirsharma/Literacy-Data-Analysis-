{
 "cells": [
  {
   "cell_type": "code",
   "execution_count": 2,
   "id": "ee40079a-f4f0-426a-adfa-1eddbf4fca5a",
   "metadata": {},
   "outputs": [
    {
     "name": "stdout",
     "output_type": "stream",
     "text": [
      "Requirement already satisfied: pyodbc in c:\\users\\prachir\\anaconda3\\lib\\site-packages (5.0.1)\n",
      "Note: you may need to restart the kernel to use updated packages.\n"
     ]
    }
   ],
   "source": [
    "pip install pyodbc"
   ]
  },
  {
   "cell_type": "code",
   "execution_count": 3,
   "id": "df433138-b9fa-45aa-b893-ba4cddc655f8",
   "metadata": {},
   "outputs": [
    {
     "name": "stdout",
     "output_type": "stream",
     "text": [
      "Name: pyodbc\n",
      "Version: 5.0.1\n",
      "Summary: DB API module for ODBC\n",
      "Home-page: https://github.com/mkleehammer/pyodbc\n",
      "Author: \n",
      "Author-email: Michael Kleehammer <michael@kleehammer.com>\n",
      "License: MIT License\n",
      "Location: C:\\Users\\Prachir\\anaconda3\\Lib\\site-packages\n",
      "Requires: \n",
      "Required-by: \n",
      "Note: you may need to restart the kernel to use updated packages.\n"
     ]
    }
   ],
   "source": [
    "pip show pyodbc"
   ]
  },
  {
   "cell_type": "code",
   "execution_count": 4,
   "id": "3188a0c6-cd39-44ec-a3e1-e09b1b30b6ae",
   "metadata": {},
   "outputs": [],
   "source": [
    "import pyodbc"
   ]
  },
  {
   "cell_type": "code",
   "execution_count": 10,
   "id": "692f6f33-c010-4332-9bb4-2f2b0cf16d6f",
   "metadata": {},
   "outputs": [
    {
     "name": "stdout",
     "output_type": "stream",
     "text": [
      "connection succesfull\n"
     ]
    }
   ],
   "source": [
    "try:\n",
    "    \n",
    "    conn = pyodbc.connect(\n",
    "        'DRIVER={SQL Server};'\n",
    "        'SERVER=Prachir\\\\SQLEXPRESS;'\n",
    "        'DATABASE=Literacy;'\n",
    "        'Trusted_Connection=yes;')\n",
    "    print(\"connection succesfull\")\n",
    "except Exception as e:\n",
    "    print(f'connection failed :{e}')\n"
   ]
  },
  {
   "cell_type": "code",
   "execution_count": 14,
   "id": "a8ad589c-43aa-41df-ae45-aced9173454e",
   "metadata": {},
   "outputs": [],
   "source": [
    "import pandas as pd"
   ]
  },
  {
   "cell_type": "code",
   "execution_count": 16,
   "id": "233e0e08-cd27-4d34-b440-25bc0752f544",
   "metadata": {},
   "outputs": [
    {
     "name": "stderr",
     "output_type": "stream",
     "text": [
      "C:\\Users\\Prachir\\AppData\\Local\\Temp\\ipykernel_2200\\3876449674.py:1: UserWarning: pandas only supports SQLAlchemy connectable (engine/connection) or database string URI or sqlite3 DBAPI2 connection. Other DBAPI2 objects are not tested. Please consider using SQLAlchemy.\n",
      "  literacy_df=pd.read_sql(\"select * from literacy_Data_2011\",conn)\n"
     ]
    }
   ],
   "source": [
    "literacy_df=pd.read_sql(\"select * from literacy_Data_2011\",conn)"
   ]
  },
  {
   "cell_type": "code",
   "execution_count": 18,
   "id": "1929cd0c-ddb3-4e2a-84b0-46a055a5e096",
   "metadata": {},
   "outputs": [
    {
     "data": {
      "text/html": [
       "<div>\n",
       "<style scoped>\n",
       "    .dataframe tbody tr th:only-of-type {\n",
       "        vertical-align: middle;\n",
       "    }\n",
       "\n",
       "    .dataframe tbody tr th {\n",
       "        vertical-align: top;\n",
       "    }\n",
       "\n",
       "    .dataframe thead th {\n",
       "        text-align: right;\n",
       "    }\n",
       "</style>\n",
       "<table border=\"1\" class=\"dataframe\">\n",
       "  <thead>\n",
       "    <tr style=\"text-align: right;\">\n",
       "      <th></th>\n",
       "      <th>sr_no</th>\n",
       "      <th>District</th>\n",
       "      <th>State</th>\n",
       "      <th>Literacy</th>\n",
       "    </tr>\n",
       "  </thead>\n",
       "  <tbody>\n",
       "    <tr>\n",
       "      <th>0</th>\n",
       "      <td>1</td>\n",
       "      <td>Thane</td>\n",
       "      <td>Maharashtra</td>\n",
       "      <td>84.53</td>\n",
       "    </tr>\n",
       "    <tr>\n",
       "      <th>1</th>\n",
       "      <td>2</td>\n",
       "      <td>North Twenty Four Parganas</td>\n",
       "      <td>West Bengal</td>\n",
       "      <td>84.06</td>\n",
       "    </tr>\n",
       "    <tr>\n",
       "      <th>2</th>\n",
       "      <td>3</td>\n",
       "      <td>Bangalore</td>\n",
       "      <td>Karnataka</td>\n",
       "      <td>87.67</td>\n",
       "    </tr>\n",
       "    <tr>\n",
       "      <th>3</th>\n",
       "      <td>4</td>\n",
       "      <td>Pune</td>\n",
       "      <td>Maharashtra</td>\n",
       "      <td>86.15</td>\n",
       "    </tr>\n",
       "    <tr>\n",
       "      <th>4</th>\n",
       "      <td>5</td>\n",
       "      <td>Mumbai Suburban</td>\n",
       "      <td>Maharashtra</td>\n",
       "      <td>89.91</td>\n",
       "    </tr>\n",
       "    <tr>\n",
       "      <th>...</th>\n",
       "      <td>...</td>\n",
       "      <td>...</td>\n",
       "      <td>...</td>\n",
       "      <td>...</td>\n",
       "    </tr>\n",
       "    <tr>\n",
       "      <th>95</th>\n",
       "      <td>96</td>\n",
       "      <td>Sitamarhi</td>\n",
       "      <td>Bihar</td>\n",
       "      <td>52.05</td>\n",
       "    </tr>\n",
       "    <tr>\n",
       "      <th>96</th>\n",
       "      <td>97</td>\n",
       "      <td>Rae Bareli</td>\n",
       "      <td>Uttar Pradesh</td>\n",
       "      <td>67.25</td>\n",
       "    </tr>\n",
       "    <tr>\n",
       "      <th>97</th>\n",
       "      <td>98</td>\n",
       "      <td>Prakasam</td>\n",
       "      <td>Andhra Pradesh</td>\n",
       "      <td>63.08</td>\n",
       "    </tr>\n",
       "    <tr>\n",
       "      <th>98</th>\n",
       "      <td>99</td>\n",
       "      <td>Nanded</td>\n",
       "      <td>Maharashtra</td>\n",
       "      <td>75.45</td>\n",
       "    </tr>\n",
       "    <tr>\n",
       "      <th>99</th>\n",
       "      <td>100</td>\n",
       "      <td>Durg</td>\n",
       "      <td>Chhattisgarh</td>\n",
       "      <td>79.06</td>\n",
       "    </tr>\n",
       "  </tbody>\n",
       "</table>\n",
       "<p>100 rows × 4 columns</p>\n",
       "</div>"
      ],
      "text/plain": [
       "    sr_no                    District           State  Literacy\n",
       "0       1                       Thane     Maharashtra     84.53\n",
       "1       2  North Twenty Four Parganas     West Bengal     84.06\n",
       "2       3                   Bangalore       Karnataka     87.67\n",
       "3       4                        Pune     Maharashtra     86.15\n",
       "4       5             Mumbai Suburban     Maharashtra     89.91\n",
       "..    ...                         ...             ...       ...\n",
       "95     96                   Sitamarhi           Bihar     52.05\n",
       "96     97                  Rae Bareli   Uttar Pradesh     67.25\n",
       "97     98                    Prakasam  Andhra Pradesh     63.08\n",
       "98     99                      Nanded     Maharashtra     75.45\n",
       "99    100                        Durg    Chhattisgarh     79.06\n",
       "\n",
       "[100 rows x 4 columns]"
      ]
     },
     "execution_count": 18,
     "metadata": {},
     "output_type": "execute_result"
    }
   ],
   "source": [
    "literacy_df"
   ]
  },
  {
   "cell_type": "code",
   "execution_count": 76,
   "id": "452b14cc-a94f-431d-b520-36d3c0bc0ae3",
   "metadata": {},
   "outputs": [
    {
     "data": {
      "text/plain": [
       "sr_no                 100\n",
       "District    West Godavari\n",
       "State         West Bengal\n",
       "Literacy            93.57\n",
       "dtype: object"
      ]
     },
     "execution_count": 76,
     "metadata": {},
     "output_type": "execute_result"
    }
   ],
   "source": [
    "literacy_df['State'],literacy_df.max()"
   ]
  },
  {
   "cell_type": "code",
   "execution_count": 74,
   "id": "82b727c0-7490-4e94-8347-7b8ab1a10876",
   "metadata": {},
   "outputs": [
    {
     "name": "stderr",
     "output_type": "stream",
     "text": [
      "C:\\Users\\Prachir\\AppData\\Local\\Temp\\ipykernel_2200\\4234342957.py:1: UserWarning: pandas only supports SQLAlchemy connectable (engine/connection) or database string URI or sqlite3 DBAPI2 connection. Other DBAPI2 objects are not tested. Please consider using SQLAlchemy.\n",
      "  population_df=pd.read_sql(\"select* from population2011\",conn)\n"
     ]
    }
   ],
   "source": [
    "population_df=pd.read_sql(\"select* from population2011\",conn)"
   ]
  },
  {
   "cell_type": "code",
   "execution_count": 22,
   "id": "2b8227dd-9bf2-4170-9815-2679b4980046",
   "metadata": {},
   "outputs": [
    {
     "data": {
      "text/html": [
       "<div>\n",
       "<style scoped>\n",
       "    .dataframe tbody tr th:only-of-type {\n",
       "        vertical-align: middle;\n",
       "    }\n",
       "\n",
       "    .dataframe tbody tr th {\n",
       "        vertical-align: top;\n",
       "    }\n",
       "\n",
       "    .dataframe thead th {\n",
       "        text-align: right;\n",
       "    }\n",
       "</style>\n",
       "<table border=\"1\" class=\"dataframe\">\n",
       "  <thead>\n",
       "    <tr style=\"text-align: right;\">\n",
       "      <th></th>\n",
       "      <th>states</th>\n",
       "      <th>population</th>\n",
       "    </tr>\n",
       "  </thead>\n",
       "  <tbody>\n",
       "    <tr>\n",
       "      <th>0</th>\n",
       "      <td>Andhra Pradesh</td>\n",
       "      <td>84580776.0</td>\n",
       "    </tr>\n",
       "    <tr>\n",
       "      <th>1</th>\n",
       "      <td>Bihar</td>\n",
       "      <td>104099456.0</td>\n",
       "    </tr>\n",
       "    <tr>\n",
       "      <th>2</th>\n",
       "      <td>Chhattisgarh</td>\n",
       "      <td>25545198.0</td>\n",
       "    </tr>\n",
       "    <tr>\n",
       "      <th>3</th>\n",
       "      <td>Delhi</td>\n",
       "      <td>16787940.0</td>\n",
       "    </tr>\n",
       "    <tr>\n",
       "      <th>4</th>\n",
       "      <td>Gujarat</td>\n",
       "      <td>60439692.0</td>\n",
       "    </tr>\n",
       "    <tr>\n",
       "      <th>5</th>\n",
       "      <td>Karnataka</td>\n",
       "      <td>61095296.0</td>\n",
       "    </tr>\n",
       "    <tr>\n",
       "      <th>6</th>\n",
       "      <td>Kerala</td>\n",
       "      <td>33406060.0</td>\n",
       "    </tr>\n",
       "    <tr>\n",
       "      <th>7</th>\n",
       "      <td>Maharashtra</td>\n",
       "      <td>112374336.0</td>\n",
       "    </tr>\n",
       "    <tr>\n",
       "      <th>8</th>\n",
       "      <td>Orissa</td>\n",
       "      <td>41974216.0</td>\n",
       "    </tr>\n",
       "    <tr>\n",
       "      <th>9</th>\n",
       "      <td>Punjab</td>\n",
       "      <td>27743338.0</td>\n",
       "    </tr>\n",
       "    <tr>\n",
       "      <th>10</th>\n",
       "      <td>Rajasthan</td>\n",
       "      <td>68548440.0</td>\n",
       "    </tr>\n",
       "    <tr>\n",
       "      <th>11</th>\n",
       "      <td>Tamil Nadu</td>\n",
       "      <td>72147032.0</td>\n",
       "    </tr>\n",
       "    <tr>\n",
       "      <th>12</th>\n",
       "      <td>Uttar Pradesh</td>\n",
       "      <td>199812336.0</td>\n",
       "    </tr>\n",
       "    <tr>\n",
       "      <th>13</th>\n",
       "      <td>West Bengal</td>\n",
       "      <td>91276112.0</td>\n",
       "    </tr>\n",
       "  </tbody>\n",
       "</table>\n",
       "</div>"
      ],
      "text/plain": [
       "            states   population\n",
       "0   Andhra Pradesh   84580776.0\n",
       "1            Bihar  104099456.0\n",
       "2     Chhattisgarh   25545198.0\n",
       "3            Delhi   16787940.0\n",
       "4          Gujarat   60439692.0\n",
       "5        Karnataka   61095296.0\n",
       "6           Kerala   33406060.0\n",
       "7      Maharashtra  112374336.0\n",
       "8           Orissa   41974216.0\n",
       "9           Punjab   27743338.0\n",
       "10       Rajasthan   68548440.0\n",
       "11      Tamil Nadu   72147032.0\n",
       "12   Uttar Pradesh  199812336.0\n",
       "13     West Bengal   91276112.0"
      ]
     },
     "execution_count": 22,
     "metadata": {},
     "output_type": "execute_result"
    }
   ],
   "source": [
    "population_df"
   ]
  },
  {
   "cell_type": "code",
   "execution_count": 143,
   "id": "397ccd16-e2fb-42e8-92a9-003b4b3ddaaa",
   "metadata": {},
   "outputs": [
    {
     "name": "stdout",
     "output_type": "stream",
     "text": [
      "    sr_no         District        State   Literacy\n",
      "0       1            Thane  Maharashtra  84.529999\n",
      "3       4             Pune  Maharashtra  86.150002\n",
      "4       5  Mumbai Suburban  Maharashtra  89.910004\n",
      "7       8        Ahmadabad      Gujarat  85.309998\n",
      "10     11           Nashik  Maharashtra  82.309998\n",
      "11     12            Surat      Gujarat  85.529999\n",
      "27     28           Nagpur  Maharashtra  88.389999\n",
      "32     33       Ahmadnagar  Maharashtra  79.050003\n",
      "42     43          Solapur  Maharashtra  77.019997\n",
      "45     46          Jalgaon  Maharashtra  78.199997\n",
      "47     48         Vadodara      Gujarat  78.919998\n",
      "64     65         Kolhapur  Maharashtra  81.510002\n",
      "66     67           Rajkot      Gujarat  80.959999\n",
      "70     71       Aurangabad  Maharashtra  79.019997\n",
      "98     99           Nanded  Maharashtra  75.449997\n"
     ]
    }
   ],
   "source": [
    "##Que 1 Create a dataframe for Gujarat and Maharashtra\n",
    "gujarat_Maharashtra=literacy_df[literacy_df['State'].isin(['Gujarat','Maharashtra'])]\n",
    "print(gujarat_Maharashtra)"
   ]
  },
  {
   "cell_type": "code",
   "execution_count": null,
   "id": "167277fc-8e5e-46f7-8b4e-889fa3de51ae",
   "metadata": {},
   "outputs": [],
   "source": []
  },
  {
   "cell_type": "code",
   "execution_count": 75,
   "id": "ef745058-d2b7-482b-bcc1-e35ece7fd5cf",
   "metadata": {},
   "outputs": [
    {
     "ename": "NameError",
     "evalue": "name 'gujarat_maharashtra_df' is not defined",
     "output_type": "error",
     "traceback": [
      "\u001b[1;31m---------------------------------------------------------------------------\u001b[0m",
      "\u001b[1;31mNameError\u001b[0m                                 Traceback (most recent call last)",
      "Cell \u001b[1;32mIn[75], line 1\u001b[0m\n\u001b[1;32m----> 1\u001b[0m merged_df \u001b[38;5;241m=\u001b[39m gujarat_maharashtra_df\u001b[38;5;241m.\u001b[39mmerge(population_df, left_on\u001b[38;5;241m=\u001b[39m\u001b[38;5;124m'\u001b[39m\u001b[38;5;124mState\u001b[39m\u001b[38;5;124m'\u001b[39m, right_on\u001b[38;5;241m=\u001b[39m\u001b[38;5;124m'\u001b[39m\u001b[38;5;124mstates\u001b[39m\u001b[38;5;124m'\u001b[39m, how\u001b[38;5;241m=\u001b[39m\u001b[38;5;124m'\u001b[39m\u001b[38;5;124mleft\u001b[39m\u001b[38;5;124m'\u001b[39m)\n\u001b[0;32m      3\u001b[0m \u001b[38;5;66;03m# Select relevant columns (District, State, Literacy, Population)\u001b[39;00m\n\u001b[0;32m      4\u001b[0m final_df \u001b[38;5;241m=\u001b[39m merged_df[[\u001b[38;5;124m'\u001b[39m\u001b[38;5;124mDistrict\u001b[39m\u001b[38;5;124m'\u001b[39m, \u001b[38;5;124m'\u001b[39m\u001b[38;5;124mState\u001b[39m\u001b[38;5;124m'\u001b[39m, \u001b[38;5;124m'\u001b[39m\u001b[38;5;124mLiteracy\u001b[39m\u001b[38;5;124m'\u001b[39m, \u001b[38;5;124m'\u001b[39m\u001b[38;5;124mpopulation\u001b[39m\u001b[38;5;124m'\u001b[39m]]\n",
      "\u001b[1;31mNameError\u001b[0m: name 'gujarat_maharashtra_df' is not defined"
     ]
    }
   ],
   "source": [
    "merged_df = gujarat_maharashtra_df.merge(population_df, left_on='State', right_on='states', how='left')\n",
    "\n",
    "# Select relevant columns (District, State, Literacy, Population)\n",
    "final_df = merged_df[['District', 'State', 'Literacy', 'population']]\n",
    "\n",
    "# Display the final DataFrame\n",
    "print(final_df)"
   ]
  },
  {
   "cell_type": "code",
   "execution_count": 77,
   "id": "55a52196-5a81-4248-974e-ab2ac411b1c7",
   "metadata": {},
   "outputs": [
    {
     "name": "stdout",
     "output_type": "stream",
     "text": [
      "Number of districts with a literacy percentage above 60%: 88\n"
     ]
    }
   ],
   "source": [
    "##q3.\n",
    "districts_above_60 = literacy_df[literacy_df['Literacy'] > 60].shape[0]\n",
    "print(f\"Number of districts with a literacy percentage above 60%: {districts_above_60}\")"
   ]
  },
  {
   "cell_type": "code",
   "execution_count": 147,
   "id": "29c355b0-ed7c-461c-8df9-4f59411ad58d",
   "metadata": {},
   "outputs": [
    {
     "name": "stdout",
     "output_type": "stream",
     "text": [
      "State with highest literacy percentage is in Kerala with a literacy of 93.56999969482422%\n"
     ]
    }
   ],
   "source": [
    "##q4. What is the state with highest literacy percentage in the dataset?\n",
    "max_literacy_by_state = literacy_df.groupby('State')['Literacy'].max().reset_index()\n",
    "\n",
    "\n",
    "highest_literacy_state = max_literacy_by_state.loc[max_literacy_by_state['Literacy'].idxmax()]\n",
    "\n",
    "\n",
    "print(f\"State with highest literacy percentage is in {highest_literacy_state['State']} with a literacy of {highest_literacy_state['Literacy']}%\")"
   ]
  },
  {
   "cell_type": "code",
   "execution_count": 84,
   "id": "96b907f3-6e6e-4220-b864-f3a14137a500",
   "metadata": {},
   "outputs": [],
   "source": [
    "\n",
    "max_literacy_by_state = literacy_df.groupby('State')['Literacy'].max().reset_index()"
   ]
  },
  {
   "cell_type": "code",
   "execution_count": 86,
   "id": "c6af73e9-9387-485f-ade3-b8bab6d057fd",
   "metadata": {},
   "outputs": [
    {
     "data": {
      "text/html": [
       "<div>\n",
       "<style scoped>\n",
       "    .dataframe tbody tr th:only-of-type {\n",
       "        vertical-align: middle;\n",
       "    }\n",
       "\n",
       "    .dataframe tbody tr th {\n",
       "        vertical-align: top;\n",
       "    }\n",
       "\n",
       "    .dataframe thead th {\n",
       "        text-align: right;\n",
       "    }\n",
       "</style>\n",
       "<table border=\"1\" class=\"dataframe\">\n",
       "  <thead>\n",
       "    <tr style=\"text-align: right;\">\n",
       "      <th></th>\n",
       "      <th>State</th>\n",
       "      <th>Literacy</th>\n",
       "    </tr>\n",
       "  </thead>\n",
       "  <tbody>\n",
       "    <tr>\n",
       "      <th>0</th>\n",
       "      <td>Andhra Pradesh</td>\n",
       "      <td>83.25</td>\n",
       "    </tr>\n",
       "    <tr>\n",
       "      <th>1</th>\n",
       "      <td>Bihar</td>\n",
       "      <td>70.68</td>\n",
       "    </tr>\n",
       "    <tr>\n",
       "      <th>2</th>\n",
       "      <td>Chhattisgarh</td>\n",
       "      <td>79.06</td>\n",
       "    </tr>\n",
       "    <tr>\n",
       "      <th>3</th>\n",
       "      <td>Delhi</td>\n",
       "      <td>84.45</td>\n",
       "    </tr>\n",
       "    <tr>\n",
       "      <th>4</th>\n",
       "      <td>Gujarat</td>\n",
       "      <td>85.53</td>\n",
       "    </tr>\n",
       "    <tr>\n",
       "      <th>5</th>\n",
       "      <td>Karnataka</td>\n",
       "      <td>87.67</td>\n",
       "    </tr>\n",
       "    <tr>\n",
       "      <th>6</th>\n",
       "      <td>Kerala</td>\n",
       "      <td>93.57</td>\n",
       "    </tr>\n",
       "    <tr>\n",
       "      <th>7</th>\n",
       "      <td>Maharashtra</td>\n",
       "      <td>89.91</td>\n",
       "    </tr>\n",
       "    <tr>\n",
       "      <th>8</th>\n",
       "      <td>Orissa</td>\n",
       "      <td>71.09</td>\n",
       "    </tr>\n",
       "    <tr>\n",
       "      <th>9</th>\n",
       "      <td>Punjab</td>\n",
       "      <td>82.20</td>\n",
       "    </tr>\n",
       "    <tr>\n",
       "      <th>10</th>\n",
       "      <td>Rajasthan</td>\n",
       "      <td>75.51</td>\n",
       "    </tr>\n",
       "    <tr>\n",
       "      <th>11</th>\n",
       "      <td>Tamil Nadu</td>\n",
       "      <td>90.18</td>\n",
       "    </tr>\n",
       "    <tr>\n",
       "      <th>12</th>\n",
       "      <td>Uttar Pradesh</td>\n",
       "      <td>79.65</td>\n",
       "    </tr>\n",
       "    <tr>\n",
       "      <th>13</th>\n",
       "      <td>West Bengal</td>\n",
       "      <td>87.02</td>\n",
       "    </tr>\n",
       "  </tbody>\n",
       "</table>\n",
       "</div>"
      ],
      "text/plain": [
       "             State  Literacy\n",
       "0   Andhra Pradesh     83.25\n",
       "1            Bihar     70.68\n",
       "2     Chhattisgarh     79.06\n",
       "3            Delhi     84.45\n",
       "4          Gujarat     85.53\n",
       "5        Karnataka     87.67\n",
       "6           Kerala     93.57\n",
       "7      Maharashtra     89.91\n",
       "8           Orissa     71.09\n",
       "9           Punjab     82.20\n",
       "10       Rajasthan     75.51\n",
       "11      Tamil Nadu     90.18\n",
       "12   Uttar Pradesh     79.65\n",
       "13     West Bengal     87.02"
      ]
     },
     "execution_count": 86,
     "metadata": {},
     "output_type": "execute_result"
    }
   ],
   "source": [
    "max_literacy_by_state"
   ]
  },
  {
   "cell_type": "code",
   "execution_count": 88,
   "id": "a9d72359-8772-469b-8416-3569bff1df16",
   "metadata": {},
   "outputs": [],
   "source": [
    "highest_literacy_state = max_literacy_by_state.loc[max_literacy_by_state['Literacy'].idxmax()]"
   ]
  },
  {
   "cell_type": "code",
   "execution_count": 90,
   "id": "efdd5260-b692-4fb4-9063-4fe949be401d",
   "metadata": {},
   "outputs": [
    {
     "data": {
      "text/plain": [
       "State       Kerala\n",
       "Literacy     93.57\n",
       "Name: 6, dtype: object"
      ]
     },
     "execution_count": 90,
     "metadata": {},
     "output_type": "execute_result"
    }
   ],
   "source": [
    "highest_literacy_state"
   ]
  },
  {
   "cell_type": "code",
   "execution_count": 183,
   "id": "b72679d2-b280-435f-926a-3c0f6b5961e6",
   "metadata": {},
   "outputs": [
    {
     "name": "stdout",
     "output_type": "stream",
     "text": [
      "State with highest literacy percentage is in Kerala with a literacy of 93.56999969482422%\n"
     ]
    }
   ],
   "source": [
    "print(f\"State with highest literacy percentage is in {highest_literacy_state['State']} with a literacy of {highest_literacy_state['Literacy']}%\")"
   ]
  },
  {
   "cell_type": "code",
   "execution_count": 103,
   "id": "d190d7a5-c679-4a4b-bd30-392a6ef8ba75",
   "metadata": {},
   "outputs": [
    {
     "name": "stdout",
     "output_type": "stream",
     "text": [
      "Karnataka has a literacy percentage of 87.66999816894531% and a population of 61095296.0.\n"
     ]
    }
   ],
   "source": [
    "##Que 5 What is the literacy percentage and population of a karnataka?\n",
    "karnataka_literacy = literacy_df[literacy_df['State'] == 'Karnataka']\n",
    "\n",
    "\n",
    "karnataka_population = population_df[population_df['states'].str.strip() == 'Karnataka']\n",
    "\n",
    "\n",
    "karnataka_info = {\n",
    "    'Literacy Percentage': karnataka_literacy['Literacy'].values[0],\n",
    "    'Population': karnataka_population['population'].values[0]\n",
    "}\n",
    "\n",
    "\n",
    "print(f\"Karnataka has a literacy percentage of {karnataka_info['Literacy Percentage']}% and a population of {karnataka_info['Population']}.\")"
   ]
  },
  {
   "cell_type": "code",
   "execution_count": 214,
   "id": "ccafc0cc-571c-40f2-b62d-70559db904f5",
   "metadata": {},
   "outputs": [],
   "source": [
    "\n",
    "karnataka_literacy = literacy_df[literacy_df['State'] == 'Karnataka']"
   ]
  },
  {
   "cell_type": "code",
   "execution_count": 216,
   "id": "5d6b7a1c-e9d7-45a1-a445-e706dcf337c1",
   "metadata": {},
   "outputs": [
    {
     "data": {
      "text/html": [
       "<div>\n",
       "<style scoped>\n",
       "    .dataframe tbody tr th:only-of-type {\n",
       "        vertical-align: middle;\n",
       "    }\n",
       "\n",
       "    .dataframe tbody tr th {\n",
       "        vertical-align: top;\n",
       "    }\n",
       "\n",
       "    .dataframe thead th {\n",
       "        text-align: right;\n",
       "    }\n",
       "</style>\n",
       "<table border=\"1\" class=\"dataframe\">\n",
       "  <thead>\n",
       "    <tr style=\"text-align: right;\">\n",
       "      <th></th>\n",
       "      <th>sr_no</th>\n",
       "      <th>District</th>\n",
       "      <th>State</th>\n",
       "      <th>Literacy</th>\n",
       "    </tr>\n",
       "  </thead>\n",
       "  <tbody>\n",
       "    <tr>\n",
       "      <th>2</th>\n",
       "      <td>3</td>\n",
       "      <td>Bangalore</td>\n",
       "      <td>Karnataka</td>\n",
       "      <td>87.67</td>\n",
       "    </tr>\n",
       "    <tr>\n",
       "      <th>24</th>\n",
       "      <td>25</td>\n",
       "      <td>Belgaum</td>\n",
       "      <td>Karnataka</td>\n",
       "      <td>73.48</td>\n",
       "    </tr>\n",
       "  </tbody>\n",
       "</table>\n",
       "</div>"
      ],
      "text/plain": [
       "    sr_no   District      State  Literacy\n",
       "2       3  Bangalore  Karnataka     87.67\n",
       "24     25    Belgaum  Karnataka     73.48"
      ]
     },
     "execution_count": 216,
     "metadata": {},
     "output_type": "execute_result"
    }
   ],
   "source": [
    "karnataka_literacy"
   ]
  },
  {
   "cell_type": "code",
   "execution_count": 218,
   "id": "987e2bea-ba1c-49bb-ae84-3d9db50a0972",
   "metadata": {},
   "outputs": [
    {
     "name": "stdout",
     "output_type": "stream",
     "text": [
      "2     87.67\n",
      "24    73.48\n",
      "Name: Literacy, dtype: float64\n"
     ]
    }
   ],
   "source": [
    "literacy_percentage = round(karnataka_literacy['Literacy'], 2)\n",
    "\n",
    "print( literacy_percentage)"
   ]
  },
  {
   "cell_type": "code",
   "execution_count": 220,
   "id": "39a991f2-0de5-4a7d-9615-527ebbab41f6",
   "metadata": {},
   "outputs": [
    {
     "name": "stdout",
     "output_type": "stream",
     "text": [
      "Aggregate Literacy Rate: 80.58\n"
     ]
    }
   ],
   "source": [
    "aggregate_literacy = (87.67 + 73.48) / 2\n",
    "print(\"Aggregate Literacy Rate:\", round(aggregate_literacy, 2))\n"
   ]
  },
  {
   "cell_type": "code",
   "execution_count": 222,
   "id": "4833113c-23d7-42ae-bc9d-352a82f855e2",
   "metadata": {},
   "outputs": [],
   "source": [
    "karnataka_population = population_df[population_df['states']== 'Karnataka']"
   ]
  },
  {
   "cell_type": "code",
   "execution_count": 224,
   "id": "8d250321-5b85-498d-a1c1-ff3c6e63561c",
   "metadata": {},
   "outputs": [],
   "source": [
    "state_population=karnataka_population['population']"
   ]
  },
  {
   "cell_type": "code",
   "execution_count": 226,
   "id": "f8a12d93-3819-404c-92b6-0a41f922c628",
   "metadata": {},
   "outputs": [
    {
     "data": {
      "text/plain": [
       "5    61095296.0\n",
       "Name: population, dtype: float64"
      ]
     },
     "execution_count": 226,
     "metadata": {},
     "output_type": "execute_result"
    }
   ],
   "source": [
    "state_population"
   ]
  },
  {
   "cell_type": "code",
   "execution_count": 228,
   "id": "b9e4d6de-4e07-4367-8af0-5962d297b674",
   "metadata": {},
   "outputs": [
    {
     "name": "stdout",
     "output_type": "stream",
     "text": [
      "literacy rate of karnataka is 80.575 and population is  5    61095296.0\n",
      "Name: population, dtype: float64\n"
     ]
    }
   ],
   "source": [
    "print(f'literacy rate of karnataka is {aggregate_literacy} and population is  {state_population}') "
   ]
  },
  {
   "cell_type": "code",
   "execution_count": null,
   "id": "27213bfc-8b39-42be-8370-368737955ecf",
   "metadata": {},
   "outputs": [],
   "source": []
  }
 ],
 "metadata": {
  "kernelspec": {
   "display_name": "Python 3 (ipykernel)",
   "language": "python",
   "name": "python3"
  },
  "language_info": {
   "codemirror_mode": {
    "name": "ipython",
    "version": 3
   },
   "file_extension": ".py",
   "mimetype": "text/x-python",
   "name": "python",
   "nbconvert_exporter": "python",
   "pygments_lexer": "ipython3",
   "version": "3.12.4"
  }
 },
 "nbformat": 4,
 "nbformat_minor": 5
}
